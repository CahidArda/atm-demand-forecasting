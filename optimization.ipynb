{
 "cells": [
  {
   "cell_type": "code",
   "execution_count": 1,
   "source": [
    "from config import config\r\n",
    "from feature_generation import get_all_atms_feature_set\r\n",
    "from preprocessing import get_input_sets, scaler_fit_transform, scaler_transform, scaler_inverse_transform\r\n",
    "from tabTransformer import TabTransformer\r\n",
    "from misc import nmae_error, load_pickle\r\n",
    "\r\n",
    "import optuna\r\n",
    "import pandas as pd\r\n",
    "import tensorflow as tf\r\n",
    "from sklearn.model_selection import train_test_split"
   ],
   "outputs": [],
   "metadata": {}
  },
  {
   "cell_type": "markdown",
   "source": [
    "## Load Data"
   ],
   "metadata": {}
  },
  {
   "cell_type": "code",
   "execution_count": 2,
   "source": [
    "load_config = config['load_config']\r\n",
    "clusters = load_config['clusters']\r\n",
    "\r\n",
    "df = pd.read_csv(load_config['path'])\r\n",
    "all_atms_feature_set = get_all_atms_feature_set(df, first_n = load_config['n_atms'])\r\n",
    "all_atms_feature_set.sort_index(inplace = True)\r\n",
    "\r\n",
    "# Reading Pickles\r\n",
    "for cluster_feature in clusters:\r\n",
    "    d = load_pickle(clusters[cluster_feature]['path'])\r\n",
    "    all_atms_feature_set[cluster_feature] = all_atms_feature_set['AtmId'].map(d)"
   ],
   "outputs": [],
   "metadata": {}
  },
  {
   "cell_type": "markdown",
   "source": [
    "## Setting Features"
   ],
   "metadata": {}
  },
  {
   "cell_type": "code",
   "execution_count": 3,
   "source": [
    "feature_config  = config['feature_config']\r\n",
    "\r\n",
    "categorical_features = [cat for cat in\r\n",
    "    all_atms_feature_set.select_dtypes(include=feature_config['categorical_column_types'])\r\n",
    "    if cat not in feature_config['excluded_categorical']]\r\n",
    "continuous_features = [cat for cat in\r\n",
    "    all_atms_feature_set.select_dtypes(include=feature_config['continuous_column_types'])\r\n",
    "    if cat not in feature_config['excluded_continuous']]\r\n",
    "\r\n",
    "groups = [continuous_features]\r\n",
    "groups.extend(categorical_features)"
   ],
   "outputs": [],
   "metadata": {}
  },
  {
   "cell_type": "markdown",
   "source": [
    "## Aranging train/test Data"
   ],
   "metadata": {}
  },
  {
   "cell_type": "code",
   "execution_count": 4,
   "source": [
    "X = all_atms_feature_set[continuous_features + categorical_features]\r\n",
    "y = all_atms_feature_set[feature_config['target']]\r\n",
    "\r\n",
    "X_train, X_test, y_train, y_test = train_test_split(X, y, shuffle=False)\r\n",
    "\r\n",
    "# MinMaxTransform\r\n",
    "X_train, y_train, scaler_X, scaler_y = scaler_fit_transform(X_train, y_train, continuous_features)\r\n",
    "X_test, y_test = scaler_transform(X_test, y_test, scaler_X, scaler_y, continuous_features)\r\n",
    "\r\n",
    "X_train = get_input_sets(X_train, groups)\r\n",
    "X_test  = get_input_sets(X_test, groups)"
   ],
   "outputs": [
    {
     "output_type": "stream",
     "name": "stderr",
     "text": [
      "c:\\Users\\cahid\\Documents\\GitHub\\atm-demand-forecasting\\preprocessing.py:24: SettingWithCopyWarning: \n",
      "A value is trying to be set on a copy of a slice from a DataFrame.\n",
      "Try using .loc[row_indexer,col_indexer] = value instead\n",
      "\n",
      "See the caveats in the documentation: https://pandas.pydata.org/pandas-docs/stable/user_guide/indexing.html#returning-a-view-versus-a-copy\n",
      "  X[numerical_features] = scaler_X.transform(X[numerical_features])\n",
      "C:\\Users\\cahid\\anaconda3\\envs\\tensor\\lib\\site-packages\\pandas\\core\\indexing.py:1738: SettingWithCopyWarning: \n",
      "A value is trying to be set on a copy of a slice from a DataFrame.\n",
      "Try using .loc[row_indexer,col_indexer] = value instead\n",
      "\n",
      "See the caveats in the documentation: https://pandas.pydata.org/pandas-docs/stable/user_guide/indexing.html#returning-a-view-versus-a-copy\n",
      "  self._setitem_single_column(loc, value[:, i].tolist(), pi)\n",
      "c:\\Users\\cahid\\Documents\\GitHub\\atm-demand-forecasting\\preprocessing.py:29: SettingWithCopyWarning: \n",
      "A value is trying to be set on a copy of a slice from a DataFrame.\n",
      "Try using .loc[row_indexer,col_indexer] = value instead\n",
      "\n",
      "See the caveats in the documentation: https://pandas.pydata.org/pandas-docs/stable/user_guide/indexing.html#returning-a-view-versus-a-copy\n",
      "  X[numerical_features] = scaler_X.transform(X[numerical_features])\n",
      "C:\\Users\\cahid\\anaconda3\\envs\\tensor\\lib\\site-packages\\pandas\\core\\indexing.py:1738: SettingWithCopyWarning: \n",
      "A value is trying to be set on a copy of a slice from a DataFrame.\n",
      "Try using .loc[row_indexer,col_indexer] = value instead\n",
      "\n",
      "See the caveats in the documentation: https://pandas.pydata.org/pandas-docs/stable/user_guide/indexing.html#returning-a-view-versus-a-copy\n",
      "  self._setitem_single_column(loc, value[:, i].tolist(), pi)\n"
     ]
    }
   ],
   "metadata": {}
  },
  {
   "cell_type": "markdown",
   "source": [
    "## Optuna"
   ],
   "metadata": {}
  },
  {
   "cell_type": "code",
   "execution_count": 5,
   "source": [
    "def objective(trial):\r\n",
    "\r\n",
    "    param = {\r\n",
    "        'dim': trial.suggest_categorical('dim', [32,64]),\r\n",
    "        'depth': trial.suggest_categorical('depth', [1,2,3,6,12]),\r\n",
    "        'heads': trial.suggest_categorical('heads', [2,4,8]),\r\n",
    "        'attn_dropout': trial.suggest_categorical('attn_dropout', [0,0.1,0.2,0.3,0.4,0.5]),\r\n",
    "        'ff_dropout': trial.suggest_categorical('ff_dropout', [0,0.1,0.2,0.3,0.4,0.5])\r\n",
    "    }\r\n",
    "\r\n",
    "    mlp_activation = trial.suggest_categorical('mlp_activation', ['relu', 'selu'])\r\n",
    "    mlp_hidden = [\r\n",
    "        (trial.suggest_categorical('mlp_1_dim', [256, 128, 64]), mlp_activation),\r\n",
    "        (trial.suggest_categorical('mlp_2_dim', [64, 32, 16]), mlp_activation),\r\n",
    "    ]\r\n",
    "\r\n",
    "    tabTransformer = TabTransformer(\r\n",
    "        categories = [len(all_atms_feature_set[cat].unique())\r\n",
    "        if cat not in clusters.keys() else\r\n",
    "        clusters[cat]['n_clusters']\r\n",
    "        for cat in categorical_features],\r\n",
    "        num_continuous = len(continuous_features),\r\n",
    "        dim_out=1,\r\n",
    "        mlp_hidden=mlp_hidden,\r\n",
    "        **param\r\n",
    "    )\r\n",
    "\r\n",
    "    training_config = config['training_config']\r\n",
    "\r\n",
    "    tabTransformer.compile(\r\n",
    "        optimizer = tf.optimizers.Adam(learning_rate = trial.suggest_loguniform('learning_rate', 0.005, 0.5)),\r\n",
    "        loss = training_config['loss']\r\n",
    "    )\r\n",
    "\r\n",
    "    tabTransformer.fit(\r\n",
    "        X_train,\r\n",
    "        y_train,\r\n",
    "        epochs = 5,\r\n",
    "        batch_size = training_config['batch_size'],\r\n",
    "        verbose = False)\r\n",
    "\r\n",
    "    error = nmae_error(scaler_inverse_transform(y_test, scaler_y), scaler_y.inverse_transform(tabTransformer.predict(X_test)))\r\n",
    "    print(error)\r\n",
    "\r\n",
    "    return error"
   ],
   "outputs": [],
   "metadata": {}
  },
  {
   "cell_type": "code",
   "execution_count": 14,
   "source": [
    "study = optuna.create_study(direction='minimize')\r\n",
    "study.optimize(objective, n_trials=20)\r\n",
    "\r\n",
    "\r\n",
    "print('Number of finished trials:', len(study.trials))\r\n",
    "print('Best trial:', study.best_trial.params)\r\n",
    "print('Best value:', study.best_value)"
   ],
   "outputs": [
    {
     "output_type": "stream",
     "name": "stderr",
     "text": [
      "\u001b[32m[I 2021-08-10 09:53:43,031]\u001b[0m A new study created in memory with name: no-name-9b9e42e2-968d-4da0-88e3-c69335c8f801\u001b[0m\n",
      "\u001b[32m[I 2021-08-10 09:54:05,440]\u001b[0m Trial 0 finished with value: 0.49498965698860153 and parameters: {'dim': 32, 'depth': 1, 'heads': 8, 'attn_dropout': 0.3, 'ff_dropout': 0.5, 'mlp_activation': 'selu', 'mlp_1_dim': 128, 'mlp_2_dim': 16, 'learning_rate': 0.01316667365976463}. Best is trial 0 with value: 0.49498965698860153.\u001b[0m\n"
     ]
    },
    {
     "output_type": "stream",
     "name": "stdout",
     "text": [
      "0.49498965698860153\n"
     ]
    },
    {
     "output_type": "stream",
     "name": "stderr",
     "text": [
      "\u001b[32m[I 2021-08-10 09:54:23,839]\u001b[0m Trial 1 finished with value: 0.4793972493396823 and parameters: {'dim': 64, 'depth': 2, 'heads': 2, 'attn_dropout': 0, 'ff_dropout': 0.1, 'mlp_activation': 'relu', 'mlp_1_dim': 128, 'mlp_2_dim': 32, 'learning_rate': 0.017904088592949254}. Best is trial 1 with value: 0.4793972493396823.\u001b[0m\n"
     ]
    },
    {
     "output_type": "stream",
     "name": "stdout",
     "text": [
      "0.4793972493396823\n"
     ]
    },
    {
     "output_type": "stream",
     "name": "stderr",
     "text": [
      "\u001b[32m[I 2021-08-10 09:54:36,948]\u001b[0m Trial 2 finished with value: 0.3310462785938368 and parameters: {'dim': 64, 'depth': 1, 'heads': 4, 'attn_dropout': 0.5, 'ff_dropout': 0.5, 'mlp_activation': 'selu', 'mlp_1_dim': 128, 'mlp_2_dim': 16, 'learning_rate': 0.006973916021973657}. Best is trial 2 with value: 0.3310462785938368.\u001b[0m\n"
     ]
    },
    {
     "output_type": "stream",
     "name": "stdout",
     "text": [
      "0.3310462785938368\n"
     ]
    },
    {
     "output_type": "stream",
     "name": "stderr",
     "text": [
      "\u001b[32m[I 2021-08-10 09:54:45,009]\u001b[0m Trial 3 finished with value: 0.4786814282388371 and parameters: {'dim': 32, 'depth': 1, 'heads': 4, 'attn_dropout': 0.2, 'ff_dropout': 0, 'mlp_activation': 'relu', 'mlp_1_dim': 128, 'mlp_2_dim': 16, 'learning_rate': 0.026678362070684344}. Best is trial 2 with value: 0.3310462785938368.\u001b[0m\n"
     ]
    },
    {
     "output_type": "stream",
     "name": "stdout",
     "text": [
      "0.4786814282388371\n"
     ]
    },
    {
     "output_type": "stream",
     "name": "stderr",
     "text": [
      "\u001b[32m[I 2021-08-10 09:56:50,980]\u001b[0m Trial 4 finished with value: 18.08585523109179 and parameters: {'dim': 32, 'depth': 12, 'heads': 8, 'attn_dropout': 0.1, 'ff_dropout': 0.5, 'mlp_activation': 'selu', 'mlp_1_dim': 64, 'mlp_2_dim': 32, 'learning_rate': 0.39344353699195006}. Best is trial 2 with value: 0.3310462785938368.\u001b[0m\n"
     ]
    },
    {
     "output_type": "stream",
     "name": "stdout",
     "text": [
      "18.08585523109179\n"
     ]
    },
    {
     "output_type": "stream",
     "name": "stderr",
     "text": [
      "\u001b[32m[I 2021-08-10 09:57:02,975]\u001b[0m Trial 5 finished with value: 2.847100709574449 and parameters: {'dim': 32, 'depth': 1, 'heads': 8, 'attn_dropout': 0.4, 'ff_dropout': 0.4, 'mlp_activation': 'relu', 'mlp_1_dim': 256, 'mlp_2_dim': 32, 'learning_rate': 0.0971540786783022}. Best is trial 2 with value: 0.3310462785938368.\u001b[0m\n"
     ]
    },
    {
     "output_type": "stream",
     "name": "stdout",
     "text": [
      "2.847100709574449\n"
     ]
    },
    {
     "output_type": "stream",
     "name": "stderr",
     "text": [
      "\u001b[32m[I 2021-08-10 09:57:13,042]\u001b[0m Trial 6 finished with value: 3.5994465899792822 and parameters: {'dim': 64, 'depth': 1, 'heads': 2, 'attn_dropout': 0.1, 'ff_dropout': 0, 'mlp_activation': 'selu', 'mlp_1_dim': 128, 'mlp_2_dim': 32, 'learning_rate': 0.06173783293089919}. Best is trial 2 with value: 0.3310462785938368.\u001b[0m\n"
     ]
    },
    {
     "output_type": "stream",
     "name": "stdout",
     "text": [
      "3.5994465899792822\n"
     ]
    },
    {
     "output_type": "stream",
     "name": "stderr",
     "text": [
      "\u001b[32m[I 2021-08-10 09:58:01,814]\u001b[0m Trial 7 finished with value: 5.361227618779861 and parameters: {'dim': 32, 'depth': 12, 'heads': 2, 'attn_dropout': 0.3, 'ff_dropout': 0.3, 'mlp_activation': 'relu', 'mlp_1_dim': 256, 'mlp_2_dim': 32, 'learning_rate': 0.21947852263307907}. Best is trial 2 with value: 0.3310462785938368.\u001b[0m\n"
     ]
    },
    {
     "output_type": "stream",
     "name": "stdout",
     "text": [
      "5.361227618779861\n"
     ]
    },
    {
     "output_type": "stream",
     "name": "stderr",
     "text": [
      "\u001b[32m[I 2021-08-10 09:58:18,599]\u001b[0m Trial 8 finished with value: 1.3495839418065185 and parameters: {'dim': 64, 'depth': 2, 'heads': 2, 'attn_dropout': 0.4, 'ff_dropout': 0.1, 'mlp_activation': 'relu', 'mlp_1_dim': 64, 'mlp_2_dim': 64, 'learning_rate': 0.14270224319163133}. Best is trial 2 with value: 0.3310462785938368.\u001b[0m\n"
     ]
    },
    {
     "output_type": "stream",
     "name": "stdout",
     "text": [
      "1.3495839418065185\n"
     ]
    },
    {
     "output_type": "stream",
     "name": "stderr",
     "text": [
      "\u001b[32m[I 2021-08-10 09:59:37,963]\u001b[0m Trial 9 finished with value: 0.35396673655341976 and parameters: {'dim': 32, 'depth': 12, 'heads': 4, 'attn_dropout': 0, 'ff_dropout': 0.1, 'mlp_activation': 'selu', 'mlp_1_dim': 64, 'mlp_2_dim': 16, 'learning_rate': 0.019081238153226737}. Best is trial 2 with value: 0.3310462785938368.\u001b[0m\n"
     ]
    },
    {
     "output_type": "stream",
     "name": "stdout",
     "text": [
      "0.35396673655341976\n"
     ]
    },
    {
     "output_type": "stream",
     "name": "stderr",
     "text": [
      "\u001b[32m[I 2021-08-10 10:00:14,767]\u001b[0m Trial 10 finished with value: 0.3876400030411554 and parameters: {'dim': 64, 'depth': 3, 'heads': 4, 'attn_dropout': 0.5, 'ff_dropout': 0.2, 'mlp_activation': 'selu', 'mlp_1_dim': 128, 'mlp_2_dim': 64, 'learning_rate': 0.005336403650658574}. Best is trial 2 with value: 0.3310462785938368.\u001b[0m\n"
     ]
    },
    {
     "output_type": "stream",
     "name": "stdout",
     "text": [
      "0.3876400030411554\n"
     ]
    },
    {
     "output_type": "stream",
     "name": "stderr",
     "text": [
      "\u001b[32m[I 2021-08-10 10:01:19,014]\u001b[0m Trial 11 finished with value: 0.3354821053703796 and parameters: {'dim': 64, 'depth': 6, 'heads': 4, 'attn_dropout': 0.5, 'ff_dropout': 0.1, 'mlp_activation': 'selu', 'mlp_1_dim': 64, 'mlp_2_dim': 16, 'learning_rate': 0.005495859250002705}. Best is trial 2 with value: 0.3310462785938368.\u001b[0m\n"
     ]
    },
    {
     "output_type": "stream",
     "name": "stdout",
     "text": [
      "0.3354821053703796\n"
     ]
    },
    {
     "output_type": "stream",
     "name": "stderr",
     "text": [
      "\u001b[32m[I 2021-08-10 10:02:19,854]\u001b[0m Trial 12 finished with value: 0.4051694964346142 and parameters: {'dim': 64, 'depth': 6, 'heads': 4, 'attn_dropout': 0.5, 'ff_dropout': 0.5, 'mlp_activation': 'selu', 'mlp_1_dim': 64, 'mlp_2_dim': 16, 'learning_rate': 0.005480033019951941}. Best is trial 2 with value: 0.3310462785938368.\u001b[0m\n"
     ]
    },
    {
     "output_type": "stream",
     "name": "stdout",
     "text": [
      "0.4051694964346142\n"
     ]
    },
    {
     "output_type": "stream",
     "name": "stderr",
     "text": [
      "\u001b[32m[I 2021-08-10 10:03:19,944]\u001b[0m Trial 13 finished with value: 0.32449295287244573 and parameters: {'dim': 64, 'depth': 6, 'heads': 4, 'attn_dropout': 0.5, 'ff_dropout': 0.3, 'mlp_activation': 'selu', 'mlp_1_dim': 64, 'mlp_2_dim': 16, 'learning_rate': 0.009197764665216707}. Best is trial 13 with value: 0.32449295287244573.\u001b[0m\n"
     ]
    },
    {
     "output_type": "stream",
     "name": "stdout",
     "text": [
      "0.32449295287244573\n"
     ]
    },
    {
     "output_type": "stream",
     "name": "stderr",
     "text": [
      "\u001b[32m[I 2021-08-10 10:04:20,632]\u001b[0m Trial 14 finished with value: 0.49604849757380753 and parameters: {'dim': 64, 'depth': 6, 'heads': 4, 'attn_dropout': 0.5, 'ff_dropout': 0.3, 'mlp_activation': 'selu', 'mlp_1_dim': 256, 'mlp_2_dim': 16, 'learning_rate': 0.011336858848976608}. Best is trial 13 with value: 0.32449295287244573.\u001b[0m\n"
     ]
    },
    {
     "output_type": "stream",
     "name": "stdout",
     "text": [
      "0.49604849757380753\n"
     ]
    },
    {
     "output_type": "stream",
     "name": "stderr",
     "text": [
      "\u001b[32m[I 2021-08-10 10:04:52,869]\u001b[0m Trial 15 finished with value: 0.47897693771665756 and parameters: {'dim': 64, 'depth': 3, 'heads': 4, 'attn_dropout': 0.5, 'ff_dropout': 0.3, 'mlp_activation': 'selu', 'mlp_1_dim': 128, 'mlp_2_dim': 16, 'learning_rate': 0.04037885122314331}. Best is trial 13 with value: 0.32449295287244573.\u001b[0m\n"
     ]
    },
    {
     "output_type": "stream",
     "name": "stdout",
     "text": [
      "0.47897693771665756\n"
     ]
    },
    {
     "output_type": "stream",
     "name": "stderr",
     "text": [
      "\u001b[32m[I 2021-08-10 10:05:57,400]\u001b[0m Trial 16 finished with value: 0.5159624009576634 and parameters: {'dim': 64, 'depth': 6, 'heads': 4, 'attn_dropout': 0.2, 'ff_dropout': 0.2, 'mlp_activation': 'selu', 'mlp_1_dim': 64, 'mlp_2_dim': 64, 'learning_rate': 0.009689419627341142}. Best is trial 13 with value: 0.32449295287244573.\u001b[0m\n"
     ]
    },
    {
     "output_type": "stream",
     "name": "stdout",
     "text": [
      "0.5159624009576634\n"
     ]
    },
    {
     "output_type": "stream",
     "name": "stderr",
     "text": [
      "\u001b[32m[I 2021-08-10 10:06:09,823]\u001b[0m Trial 17 finished with value: 0.4514522285186496 and parameters: {'dim': 64, 'depth': 1, 'heads': 4, 'attn_dropout': 0.5, 'ff_dropout': 0.4, 'mlp_activation': 'selu', 'mlp_1_dim': 128, 'mlp_2_dim': 16, 'learning_rate': 0.00826092226028186}. Best is trial 13 with value: 0.32449295287244573.\u001b[0m\n"
     ]
    },
    {
     "output_type": "stream",
     "name": "stdout",
     "text": [
      "0.4514522285186496\n"
     ]
    },
    {
     "output_type": "stream",
     "name": "stderr",
     "text": [
      "\u001b[32m[I 2021-08-10 10:07:15,347]\u001b[0m Trial 18 finished with value: 0.4791465482005055 and parameters: {'dim': 64, 'depth': 6, 'heads': 4, 'attn_dropout': 0.5, 'ff_dropout': 0.5, 'mlp_activation': 'selu', 'mlp_1_dim': 64, 'mlp_2_dim': 16, 'learning_rate': 0.033778457868703}. Best is trial 13 with value: 0.32449295287244573.\u001b[0m\n"
     ]
    },
    {
     "output_type": "stream",
     "name": "stdout",
     "text": [
      "0.4791465482005055\n"
     ]
    },
    {
     "output_type": "stream",
     "name": "stderr",
     "text": [
      "\u001b[32m[I 2021-08-10 10:08:00,747]\u001b[0m Trial 19 finished with value: 10.574422360584437 and parameters: {'dim': 64, 'depth': 2, 'heads': 8, 'attn_dropout': 0.5, 'ff_dropout': 0.3, 'mlp_activation': 'selu', 'mlp_1_dim': 256, 'mlp_2_dim': 16, 'learning_rate': 0.06602838449972318}. Best is trial 13 with value: 0.32449295287244573.\u001b[0m\n"
     ]
    },
    {
     "output_type": "stream",
     "name": "stdout",
     "text": [
      "10.574422360584437\n",
      "Number of finished trials: 20\n",
      "Best trial: {'dim': 64, 'depth': 6, 'heads': 4, 'attn_dropout': 0.5, 'ff_dropout': 0.3, 'mlp_activation': 'selu', 'mlp_1_dim': 64, 'mlp_2_dim': 16, 'learning_rate': 0.009197764665216707}\n",
      "Best value: 0.32449295287244573\n"
     ]
    }
   ],
   "metadata": {}
  },
  {
   "cell_type": "code",
   "execution_count": 15,
   "source": [
    "import json\r\n",
    "params = study.best_trial.params\r\n",
    "with open('hyperparameters.txt', 'w') as outfile:\r\n",
    "    json.dump(params, outfile)"
   ],
   "outputs": [],
   "metadata": {}
  },
  {
   "cell_type": "code",
   "execution_count": 16,
   "source": [
    "params"
   ],
   "outputs": [
    {
     "output_type": "execute_result",
     "data": {
      "text/plain": [
       "{'dim': 64,\n",
       " 'depth': 6,\n",
       " 'heads': 4,\n",
       " 'attn_dropout': 0.5,\n",
       " 'ff_dropout': 0.3,\n",
       " 'mlp_activation': 'selu',\n",
       " 'mlp_1_dim': 64,\n",
       " 'mlp_2_dim': 16,\n",
       " 'learning_rate': 0.009197764665216707}"
      ]
     },
     "metadata": {},
     "execution_count": 16
    }
   ],
   "metadata": {}
  }
 ],
 "metadata": {
  "orig_nbformat": 4,
  "language_info": {
   "name": "python",
   "version": "3.7.10",
   "mimetype": "text/x-python",
   "codemirror_mode": {
    "name": "ipython",
    "version": 3
   },
   "pygments_lexer": "ipython3",
   "nbconvert_exporter": "python",
   "file_extension": ".py"
  },
  "kernelspec": {
   "name": "python3",
   "display_name": "Python 3.7.10 64-bit ('tensor': conda)"
  },
  "interpreter": {
   "hash": "dc02d57ed1923bb8fd0c9b2b88bd0911edbe6fbf4ce1beb1b8ef96ccbcd7b0f0"
  }
 },
 "nbformat": 4,
 "nbformat_minor": 2
}
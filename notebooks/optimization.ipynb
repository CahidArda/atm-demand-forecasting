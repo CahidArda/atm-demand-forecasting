{
 "cells": [
  {
   "cell_type": "code",
   "execution_count": 1,
   "source": [
    "sys.path.append(\"../\")\r\n",
    "from config import config\r\n",
    "from feature_generation import get_all_atms_feature_set\r\n",
    "from preprocessing import get_input_sets, scaler_fit_transform, scaler_transform, scaler_inverse_transform\r\n",
    "from tabTransformer import TabTransformer\r\n",
    "from misc import nmae_error, load_pickle\r\n",
    "\r\n",
    "import optuna\r\n",
    "import pandas as pd\r\n",
    "import tensorflow as tf\r\n",
    "from sklearn.model_selection import train_test_split"
   ],
   "outputs": [],
   "metadata": {}
  },
  {
   "cell_type": "markdown",
   "source": [
    "## Load Data"
   ],
   "metadata": {}
  },
  {
   "cell_type": "code",
   "execution_count": 3,
   "source": [
    "load_config = config['load_config']\r\n",
    "\r\n",
    "try:\r\n",
    "    config = read_hyperparameters_from_file(load_config['hyperparameter_path'])\r\n",
    "except:\r\n",
    "    print(\"WARNING: Hyperparameter file (%s) not found. Using the default config.\" % load_config['hyperparameter_path'])\r\n",
    "\r\n",
    "clusters = load_config['clusters']\r\n",
    "\r\n",
    "df = pd.read_csv(\"../\" + load_config['data_path'])\r\n",
    "all_atms_feature_set = get_all_atms_feature_set(df, first_n = load_config['n_atms'])\r\n",
    "all_atms_feature_set.sort_index(inplace = True)\r\n",
    "\r\n",
    "# Reading Pickles\r\n",
    "for cluster_feature in clusters:\r\n",
    "    d = load_pickle(\"../\" + clusters[cluster_feature]['path'])\r\n",
    "    all_atms_feature_set[cluster_feature] = all_atms_feature_set['AtmId'].map(d)"
   ],
   "outputs": [
    {
     "output_type": "stream",
     "name": "stdout",
     "text": [
      "WARNING: Hyperparameter file (hyperparemeter.txt) not found. Using the default config.\n"
     ]
    }
   ],
   "metadata": {}
  },
  {
   "cell_type": "markdown",
   "source": [
    "## Setting Features"
   ],
   "metadata": {}
  },
  {
   "cell_type": "code",
   "execution_count": 5,
   "source": [
    "feature_config  = config['feature_config']\r\n",
    "\r\n",
    "categorical_features = [cat for cat in\r\n",
    "    all_atms_feature_set.select_dtypes(include=feature_config['categorical_column_types'])\r\n",
    "    if cat not in feature_config['excluded_categorical']]\r\n",
    "continuous_features = [cat for cat in\r\n",
    "    all_atms_feature_set.select_dtypes(include=feature_config['continuous_column_types'])\r\n",
    "    if cat not in feature_config['excluded_continuous']]\r\n",
    "\r\n",
    "groups = [continuous_features]\r\n",
    "groups.extend(categorical_features)"
   ],
   "outputs": [],
   "metadata": {}
  },
  {
   "cell_type": "markdown",
   "source": [
    "## Aranging train/test Data"
   ],
   "metadata": {}
  },
  {
   "cell_type": "code",
   "execution_count": 6,
   "source": [
    "X = all_atms_feature_set[continuous_features + categorical_features]\r\n",
    "y = all_atms_feature_set[feature_config['target']]\r\n",
    "\r\n",
    "X_train, X_test, y_train, y_test = train_test_split(X, y, shuffle=False)\r\n",
    "\r\n",
    "# MinMaxTransform\r\n",
    "X_train, y_train, scaler_X, scaler_y = scaler_fit_transform(X_train, y_train, continuous_features)\r\n",
    "X_test, y_test = scaler_transform(X_test, y_test, scaler_X, scaler_y, continuous_features)\r\n",
    "\r\n",
    "X_train = get_input_sets(X_train, groups)\r\n",
    "X_test  = get_input_sets(X_test, groups)"
   ],
   "outputs": [
    {
     "output_type": "stream",
     "name": "stderr",
     "text": [
      "..\\preprocessing.py:24: SettingWithCopyWarning: \n",
      "A value is trying to be set on a copy of a slice from a DataFrame.\n",
      "Try using .loc[row_indexer,col_indexer] = value instead\n",
      "\n",
      "See the caveats in the documentation: https://pandas.pydata.org/pandas-docs/stable/user_guide/indexing.html#returning-a-view-versus-a-copy\n",
      "  X[numerical_features] = scaler_X.transform(X[numerical_features])\n",
      "C:\\Users\\cahid\\anaconda3\\envs\\tensor\\lib\\site-packages\\pandas\\core\\indexing.py:1738: SettingWithCopyWarning: \n",
      "A value is trying to be set on a copy of a slice from a DataFrame.\n",
      "Try using .loc[row_indexer,col_indexer] = value instead\n",
      "\n",
      "See the caveats in the documentation: https://pandas.pydata.org/pandas-docs/stable/user_guide/indexing.html#returning-a-view-versus-a-copy\n",
      "  self._setitem_single_column(loc, value[:, i].tolist(), pi)\n",
      "..\\preprocessing.py:29: SettingWithCopyWarning: \n",
      "A value is trying to be set on a copy of a slice from a DataFrame.\n",
      "Try using .loc[row_indexer,col_indexer] = value instead\n",
      "\n",
      "See the caveats in the documentation: https://pandas.pydata.org/pandas-docs/stable/user_guide/indexing.html#returning-a-view-versus-a-copy\n",
      "  X[numerical_features] = scaler_X.transform(X[numerical_features])\n",
      "C:\\Users\\cahid\\anaconda3\\envs\\tensor\\lib\\site-packages\\pandas\\core\\indexing.py:1738: SettingWithCopyWarning: \n",
      "A value is trying to be set on a copy of a slice from a DataFrame.\n",
      "Try using .loc[row_indexer,col_indexer] = value instead\n",
      "\n",
      "See the caveats in the documentation: https://pandas.pydata.org/pandas-docs/stable/user_guide/indexing.html#returning-a-view-versus-a-copy\n",
      "  self._setitem_single_column(loc, value[:, i].tolist(), pi)\n"
     ]
    }
   ],
   "metadata": {}
  },
  {
   "cell_type": "markdown",
   "source": [
    "## Optuna"
   ],
   "metadata": {}
  },
  {
   "cell_type": "code",
   "execution_count": 7,
   "source": [
    "def objective(trial):\r\n",
    "\r\n",
    "    param = {\r\n",
    "        'dim': trial.suggest_categorical('dim', [2,4,8]),\r\n",
    "        'depth': trial.suggest_categorical('depth', [1,2,3,6,12]),\r\n",
    "        'heads': trial.suggest_categorical('heads', [2,4,8]),\r\n",
    "        'attn_dropout': trial.suggest_categorical('attn_dropout', [0,0.1,0.2,0.3,0.4,0.5]),\r\n",
    "        'ff_dropout': trial.suggest_categorical('ff_dropout', [0,0.1,0.2,0.3,0.4,0.5])\r\n",
    "    }\r\n",
    "\r\n",
    "    mlp_activation = trial.suggest_categorical('mlp_activation', ['relu', 'selu'])\r\n",
    "    mlp_hidden = [\r\n",
    "        (trial.suggest_categorical('mlp_1_dim', [256, 128, 64]), mlp_activation),\r\n",
    "        (trial.suggest_categorical('mlp_2_dim', [64, 32, 16]), mlp_activation),\r\n",
    "    ]\r\n",
    "\r\n",
    "    tabTransformer = TabTransformer(\r\n",
    "        categories = [len(all_atms_feature_set[cat].unique())\r\n",
    "        if cat not in clusters.keys() else\r\n",
    "        clusters[cat]['n_clusters']\r\n",
    "        for cat in categorical_features],\r\n",
    "        num_continuous = len(continuous_features),\r\n",
    "        dim_out=1,\r\n",
    "        mlp_hidden=mlp_hidden,\r\n",
    "        **param\r\n",
    "    )\r\n",
    "\r\n",
    "    training_config = config['training_config']\r\n",
    "\r\n",
    "    tabTransformer.compile(\r\n",
    "        optimizer = tf.optimizers.Adam(learning_rate = trial.suggest_loguniform('learning_rate', 0.005, 0.5)),\r\n",
    "        loss = training_config['loss']\r\n",
    "    )\r\n",
    "\r\n",
    "    tabTransformer.fit(\r\n",
    "        X_train,\r\n",
    "        y_train,\r\n",
    "        epochs = 5,\r\n",
    "        batch_size = training_config['batch_size'],\r\n",
    "        verbose = False)\r\n",
    "\r\n",
    "    error = nmae_error(scaler_inverse_transform(y_test, scaler_y), scaler_y.inverse_transform(tabTransformer.predict(X_test)))\r\n",
    "    print(error)\r\n",
    "\r\n",
    "    return error"
   ],
   "outputs": [],
   "metadata": {}
  },
  {
   "cell_type": "code",
   "execution_count": 8,
   "source": [
    "study = optuna.create_study(direction='minimize')\r\n",
    "study.optimize(objective, n_trials=20)\r\n",
    "\r\n",
    "\r\n",
    "print('Number of finished trials:', len(study.trials))\r\n",
    "print('Best trial:', study.best_trial.params)\r\n",
    "print('Best value:', study.best_value)"
   ],
   "outputs": [
    {
     "output_type": "stream",
     "name": "stderr",
     "text": [
      "\u001b[32m[I 2021-08-16 12:56:30,489]\u001b[0m A new study created in memory with name: no-name-2ae91358-c80f-4032-9878-d62e589bd4af\u001b[0m\n",
      "\u001b[32m[I 2021-08-16 12:58:32,083]\u001b[0m Trial 0 finished with value: 0.4960148772084476 and parameters: {'dim': 8, 'depth': 6, 'heads': 4, 'attn_dropout': 0, 'ff_dropout': 0.3, 'mlp_activation': 'relu', 'mlp_1_dim': 128, 'mlp_2_dim': 32, 'learning_rate': 0.027794021760071407}. Best is trial 0 with value: 0.4960148772084476.\u001b[0m\n"
     ]
    },
    {
     "output_type": "stream",
     "name": "stdout",
     "text": [
      "0.4960148772084476\n"
     ]
    },
    {
     "output_type": "stream",
     "name": "stderr",
     "text": [
      "\u001b[32m[I 2021-08-16 12:58:57,956]\u001b[0m Trial 1 finished with value: 0.4528914646101807 and parameters: {'dim': 4, 'depth': 2, 'heads': 4, 'attn_dropout': 0.4, 'ff_dropout': 0, 'mlp_activation': 'selu', 'mlp_1_dim': 256, 'mlp_2_dim': 64, 'learning_rate': 0.01979513325467289}. Best is trial 1 with value: 0.4528914646101807.\u001b[0m\n"
     ]
    },
    {
     "output_type": "stream",
     "name": "stdout",
     "text": [
      "0.4528914646101807\n"
     ]
    },
    {
     "output_type": "stream",
     "name": "stderr",
     "text": [
      "\u001b[32m[I 2021-08-16 12:59:19,050]\u001b[0m Trial 2 finished with value: 0.4960526883650339 and parameters: {'dim': 8, 'depth': 2, 'heads': 2, 'attn_dropout': 0.4, 'ff_dropout': 0.4, 'mlp_activation': 'relu', 'mlp_1_dim': 256, 'mlp_2_dim': 16, 'learning_rate': 0.014691151008679938}. Best is trial 1 with value: 0.4528914646101807.\u001b[0m\n"
     ]
    },
    {
     "output_type": "stream",
     "name": "stdout",
     "text": [
      "0.4960526883650339\n"
     ]
    },
    {
     "output_type": "stream",
     "name": "stderr",
     "text": [
      "\u001b[32m[I 2021-08-16 12:59:44,859]\u001b[0m Trial 3 finished with value: 2.190167800138477 and parameters: {'dim': 4, 'depth': 1, 'heads': 8, 'attn_dropout': 0.3, 'ff_dropout': 0.3, 'mlp_activation': 'selu', 'mlp_1_dim': 256, 'mlp_2_dim': 32, 'learning_rate': 0.049978573580817545}. Best is trial 1 with value: 0.4528914646101807.\u001b[0m\n"
     ]
    },
    {
     "output_type": "stream",
     "name": "stdout",
     "text": [
      "2.190167800138477\n"
     ]
    },
    {
     "output_type": "stream",
     "name": "stderr",
     "text": [
      "\u001b[32m[I 2021-08-16 13:01:18,770]\u001b[0m Trial 4 finished with value: 0.49626048502722564 and parameters: {'dim': 4, 'depth': 12, 'heads': 2, 'attn_dropout': 0.4, 'ff_dropout': 0.2, 'mlp_activation': 'selu', 'mlp_1_dim': 256, 'mlp_2_dim': 16, 'learning_rate': 0.0841481904770034}. Best is trial 1 with value: 0.4528914646101807.\u001b[0m\n"
     ]
    },
    {
     "output_type": "stream",
     "name": "stdout",
     "text": [
      "0.49626048502722564\n"
     ]
    },
    {
     "output_type": "stream",
     "name": "stderr",
     "text": [
      "\u001b[32m[I 2021-08-16 13:02:28,214]\u001b[0m Trial 5 finished with value: 0.3041871782806189 and parameters: {'dim': 4, 'depth': 6, 'heads': 4, 'attn_dropout': 0.4, 'ff_dropout': 0.2, 'mlp_activation': 'relu', 'mlp_1_dim': 128, 'mlp_2_dim': 32, 'learning_rate': 0.04965999535284936}. Best is trial 5 with value: 0.3041871782806189.\u001b[0m\n"
     ]
    },
    {
     "output_type": "stream",
     "name": "stdout",
     "text": [
      "0.3041871782806189\n"
     ]
    },
    {
     "output_type": "stream",
     "name": "stderr",
     "text": [
      "\u001b[32m[I 2021-08-16 13:04:58,945]\u001b[0m Trial 6 finished with value: 0.3166744749299896 and parameters: {'dim': 4, 'depth': 12, 'heads': 4, 'attn_dropout': 0.5, 'ff_dropout': 0.4, 'mlp_activation': 'relu', 'mlp_1_dim': 128, 'mlp_2_dim': 32, 'learning_rate': 0.00645356059907557}. Best is trial 5 with value: 0.3041871782806189.\u001b[0m\n"
     ]
    },
    {
     "output_type": "stream",
     "name": "stdout",
     "text": [
      "0.3166744749299896\n"
     ]
    },
    {
     "output_type": "stream",
     "name": "stderr",
     "text": [
      "\u001b[32m[I 2021-08-16 13:05:22,432]\u001b[0m Trial 7 finished with value: 0.4963896583187519 and parameters: {'dim': 8, 'depth': 1, 'heads': 4, 'attn_dropout': 0, 'ff_dropout': 0.4, 'mlp_activation': 'relu', 'mlp_1_dim': 128, 'mlp_2_dim': 32, 'learning_rate': 0.084246236126458}. Best is trial 5 with value: 0.3041871782806189.\u001b[0m\n"
     ]
    },
    {
     "output_type": "stream",
     "name": "stdout",
     "text": [
      "0.4963896583187519\n"
     ]
    },
    {
     "output_type": "stream",
     "name": "stderr",
     "text": [
      "\u001b[32m[I 2021-08-16 13:07:51,856]\u001b[0m Trial 8 finished with value: 0.2979836569360411 and parameters: {'dim': 4, 'depth': 6, 'heads': 8, 'attn_dropout': 0.3, 'ff_dropout': 0.3, 'mlp_activation': 'relu', 'mlp_1_dim': 64, 'mlp_2_dim': 32, 'learning_rate': 0.012252100152243872}. Best is trial 8 with value: 0.2979836569360411.\u001b[0m\n"
     ]
    },
    {
     "output_type": "stream",
     "name": "stdout",
     "text": [
      "0.2979836569360411\n"
     ]
    },
    {
     "output_type": "stream",
     "name": "stderr",
     "text": [
      "\u001b[32m[I 2021-08-16 13:09:18,312]\u001b[0m Trial 9 finished with value: 0.49684513975362476 and parameters: {'dim': 2, 'depth': 12, 'heads': 2, 'attn_dropout': 0.4, 'ff_dropout': 0.4, 'mlp_activation': 'relu', 'mlp_1_dim': 128, 'mlp_2_dim': 16, 'learning_rate': 0.014261901169394221}. Best is trial 8 with value: 0.2979836569360411.\u001b[0m\n"
     ]
    },
    {
     "output_type": "stream",
     "name": "stdout",
     "text": [
      "0.49684513975362476\n"
     ]
    },
    {
     "output_type": "stream",
     "name": "stderr",
     "text": [
      "\u001b[32m[I 2021-08-16 13:10:15,578]\u001b[0m Trial 10 finished with value: 6.416231864231361 and parameters: {'dim': 2, 'depth': 3, 'heads': 8, 'attn_dropout': 0.2, 'ff_dropout': 0.1, 'mlp_activation': 'relu', 'mlp_1_dim': 64, 'mlp_2_dim': 64, 'learning_rate': 0.42895802645326947}. Best is trial 8 with value: 0.2979836569360411.\u001b[0m\n"
     ]
    },
    {
     "output_type": "stream",
     "name": "stdout",
     "text": [
      "6.416231864231361\n"
     ]
    },
    {
     "output_type": "stream",
     "name": "stderr",
     "text": [
      "\u001b[32m[I 2021-08-16 13:12:37,298]\u001b[0m Trial 11 finished with value: 0.2969554478414453 and parameters: {'dim': 4, 'depth': 6, 'heads': 8, 'attn_dropout': 0.1, 'ff_dropout': 0.5, 'mlp_activation': 'relu', 'mlp_1_dim': 64, 'mlp_2_dim': 32, 'learning_rate': 0.0052039954462104075}. Best is trial 11 with value: 0.2969554478414453.\u001b[0m\n"
     ]
    },
    {
     "output_type": "stream",
     "name": "stdout",
     "text": [
      "0.2969554478414453\n"
     ]
    },
    {
     "output_type": "stream",
     "name": "stderr",
     "text": [
      "\u001b[32m[I 2021-08-16 13:14:50,280]\u001b[0m Trial 12 finished with value: 0.30283922625535215 and parameters: {'dim': 4, 'depth': 6, 'heads': 8, 'attn_dropout': 0.1, 'ff_dropout': 0.5, 'mlp_activation': 'relu', 'mlp_1_dim': 64, 'mlp_2_dim': 32, 'learning_rate': 0.005026686474794017}. Best is trial 11 with value: 0.2969554478414453.\u001b[0m\n"
     ]
    },
    {
     "output_type": "stream",
     "name": "stdout",
     "text": [
      "0.30283922625535215\n"
     ]
    },
    {
     "output_type": "stream",
     "name": "stderr",
     "text": [
      "\u001b[32m[I 2021-08-16 13:17:03,552]\u001b[0m Trial 13 finished with value: 0.297281371185418 and parameters: {'dim': 4, 'depth': 6, 'heads': 8, 'attn_dropout': 0.1, 'ff_dropout': 0.5, 'mlp_activation': 'relu', 'mlp_1_dim': 64, 'mlp_2_dim': 32, 'learning_rate': 0.007696136223857897}. Best is trial 11 with value: 0.2969554478414453.\u001b[0m\n"
     ]
    },
    {
     "output_type": "stream",
     "name": "stdout",
     "text": [
      "0.297281371185418\n"
     ]
    },
    {
     "output_type": "stream",
     "name": "stderr",
     "text": [
      "\u001b[32m[I 2021-08-16 13:19:17,747]\u001b[0m Trial 14 finished with value: 0.3009790027662831 and parameters: {'dim': 4, 'depth': 6, 'heads': 8, 'attn_dropout': 0.1, 'ff_dropout': 0.5, 'mlp_activation': 'relu', 'mlp_1_dim': 64, 'mlp_2_dim': 64, 'learning_rate': 0.007845505019693777}. Best is trial 11 with value: 0.2969554478414453.\u001b[0m\n"
     ]
    },
    {
     "output_type": "stream",
     "name": "stdout",
     "text": [
      "0.3009790027662831\n"
     ]
    },
    {
     "output_type": "stream",
     "name": "stderr",
     "text": [
      "\u001b[32m[I 2021-08-16 13:20:05,910]\u001b[0m Trial 15 finished with value: 1.0563159668668125 and parameters: {'dim': 2, 'depth': 3, 'heads': 8, 'attn_dropout': 0.1, 'ff_dropout': 0.5, 'mlp_activation': 'selu', 'mlp_1_dim': 64, 'mlp_2_dim': 32, 'learning_rate': 0.26497200601294635}. Best is trial 11 with value: 0.2969554478414453.\u001b[0m\n"
     ]
    },
    {
     "output_type": "stream",
     "name": "stdout",
     "text": [
      "1.0563159668668125\n"
     ]
    },
    {
     "output_type": "stream",
     "name": "stderr",
     "text": [
      "\u001b[32m[I 2021-08-16 13:22:12,690]\u001b[0m Trial 16 finished with value: 0.30149461763270063 and parameters: {'dim': 4, 'depth': 6, 'heads': 8, 'attn_dropout': 0.1, 'ff_dropout': 0.5, 'mlp_activation': 'relu', 'mlp_1_dim': 64, 'mlp_2_dim': 32, 'learning_rate': 0.009585032382502306}. Best is trial 11 with value: 0.2969554478414453.\u001b[0m\n"
     ]
    },
    {
     "output_type": "stream",
     "name": "stdout",
     "text": [
      "0.30149461763270063\n"
     ]
    },
    {
     "output_type": "stream",
     "name": "stderr",
     "text": [
      "\u001b[32m[I 2021-08-16 13:24:19,297]\u001b[0m Trial 17 finished with value: 0.29787149271741253 and parameters: {'dim': 4, 'depth': 6, 'heads': 8, 'attn_dropout': 0.1, 'ff_dropout': 0.5, 'mlp_activation': 'relu', 'mlp_1_dim': 64, 'mlp_2_dim': 32, 'learning_rate': 0.03238815942049266}. Best is trial 11 with value: 0.2969554478414453.\u001b[0m\n"
     ]
    },
    {
     "output_type": "stream",
     "name": "stdout",
     "text": [
      "0.29787149271741253\n"
     ]
    },
    {
     "output_type": "stream",
     "name": "stderr",
     "text": [
      "\u001b[32m[I 2021-08-16 13:25:52,981]\u001b[0m Trial 18 finished with value: 0.42871598965763874 and parameters: {'dim': 2, 'depth': 6, 'heads': 8, 'attn_dropout': 0.5, 'ff_dropout': 0.1, 'mlp_activation': 'selu', 'mlp_1_dim': 64, 'mlp_2_dim': 64, 'learning_rate': 0.005770561330846152}. Best is trial 11 with value: 0.2969554478414453.\u001b[0m\n"
     ]
    },
    {
     "output_type": "stream",
     "name": "stdout",
     "text": [
      "0.42871598965763874\n"
     ]
    },
    {
     "output_type": "stream",
     "name": "stderr",
     "text": [
      "\u001b[32m[I 2021-08-16 13:26:51,559]\u001b[0m Trial 19 finished with value: 0.4282102126921229 and parameters: {'dim': 8, 'depth': 2, 'heads': 8, 'attn_dropout': 0.2, 'ff_dropout': 0, 'mlp_activation': 'relu', 'mlp_1_dim': 64, 'mlp_2_dim': 16, 'learning_rate': 0.13805196600484013}. Best is trial 11 with value: 0.2969554478414453.\u001b[0m\n"
     ]
    },
    {
     "output_type": "stream",
     "name": "stdout",
     "text": [
      "0.4282102126921229\n",
      "Number of finished trials: 20\n",
      "Best trial: {'dim': 4, 'depth': 6, 'heads': 8, 'attn_dropout': 0.1, 'ff_dropout': 0.5, 'mlp_activation': 'relu', 'mlp_1_dim': 64, 'mlp_2_dim': 32, 'learning_rate': 0.0052039954462104075}\n",
      "Best value: 0.2969554478414453\n"
     ]
    }
   ],
   "metadata": {}
  },
  {
   "cell_type": "code",
   "execution_count": 9,
   "source": [
    "import json\r\n",
    "params = study.best_trial.params\r\n",
    "with open('../hyperparameters.txt', 'w') as outfile:\r\n",
    "    json.dump(params, outfile)"
   ],
   "outputs": [],
   "metadata": {}
  },
  {
   "cell_type": "code",
   "execution_count": 10,
   "source": [
    "params"
   ],
   "outputs": [
    {
     "output_type": "execute_result",
     "data": {
      "text/plain": [
       "{'dim': 4,\n",
       " 'depth': 6,\n",
       " 'heads': 8,\n",
       " 'attn_dropout': 0.1,\n",
       " 'ff_dropout': 0.5,\n",
       " 'mlp_activation': 'relu',\n",
       " 'mlp_1_dim': 64,\n",
       " 'mlp_2_dim': 32,\n",
       " 'learning_rate': 0.0052039954462104075}"
      ]
     },
     "metadata": {},
     "execution_count": 10
    }
   ],
   "metadata": {}
  },
  {
   "cell_type": "code",
   "execution_count": null,
   "source": [],
   "outputs": [],
   "metadata": {}
  }
 ],
 "metadata": {
  "orig_nbformat": 4,
  "language_info": {
   "name": "python",
   "version": "3.7.10",
   "mimetype": "text/x-python",
   "codemirror_mode": {
    "name": "ipython",
    "version": 3
   },
   "pygments_lexer": "ipython3",
   "nbconvert_exporter": "python",
   "file_extension": ".py"
  },
  "kernelspec": {
   "name": "python3",
   "display_name": "Python 3.7.10 64-bit ('tensor': conda)"
  },
  "interpreter": {
   "hash": "dc02d57ed1923bb8fd0c9b2b88bd0911edbe6fbf4ce1beb1b8ef96ccbcd7b0f0"
  }
 },
 "nbformat": 4,
 "nbformat_minor": 2
}